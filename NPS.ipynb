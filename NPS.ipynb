{
  "cells": [
    {
      "cell_type": "code",
      "execution_count": 108,
      "metadata": {
        "id": "jYaX2VE6Csed"
      },
      "outputs": [],
      "source": [
        "# Importar os módulos pandas, numpy e random\n",
        "import pandas as pd\n",
        "import numpy as np\n",
        "import random\n",
        "import datetime"
      ]
    },
    {
      "cell_type": "code",
      "execution_count": 109,
      "metadata": {
        "id": "ku7ulT_xCuu8"
      },
      "outputs": [],
      "source": [
        "# Definir os parâmetros das listas\n",
        "n = 10000 # Número de elementos\n",
        "min = 5 # Valor mínimo\n",
        "max = 10 # Valor máximo\n",
        "mean = 10 # Média desejada\n",
        "median = 10 # Mediana desejada\n",
        "std = 2 # Desvio padrão desejado\n",
        "nulos = 0.35 # Porcentagem de valores nulos\n",
        "dias = 30 # Número máximo de dias posteriores à lista anterior\n",
        "inicio = datetime.date(2023, 1, 1) # Data inicial\n",
        "fim = datetime.date(2024, 1, 31) # Data final"
      ]
    },
    {
      "cell_type": "code",
      "execution_count": 110,
      "metadata": {
        "colab": {
          "base_uri": "https://localhost:8080/"
        },
        "id": "Aee6aPmwC7dc",
        "outputId": "63947630-bc7a-492a-b999-7e4e74dd377e"
      },
      "outputs": [
        {
          "data": {
            "text/plain": [
              "array([ 8, 10, 10, ...,  9,  7,  6])"
            ]
          },
          "execution_count": 110,
          "metadata": {},
          "output_type": "execute_result"
        }
      ],
      "source": [
        "nps = np.random.normal(loc=mean, scale=std, size=n)\n",
        "nps = np.clip(nps, min, max+1) # Limitar os valores entre min e max\n",
        "delta = median - np.median(nps) # Diferença entre a mediana atual e a desejada\n",
        "nps = nps + delta # Adicionar a diferença a todos os elementos da lista\n",
        "nps = np.clip(nps, min, max) # Limitar os valores entre min e max novamente\n",
        "nps = nps.astype(int) # Converter a lista para uma lista de inteiros\n",
        "nps"
      ]
    },
    {
      "cell_type": "code",
      "execution_count": 111,
      "metadata": {
        "colab": {
          "base_uri": "https://localhost:8080/"
        },
        "id": "MK668vFVDq0Q",
        "outputId": "85b00849-e992-4555-ecd2-84e35112cd8c"
      },
      "outputs": [
        {
          "data": {
            "text/plain": [
              "array([3, 3, 4, ..., 4, 2, 3])"
            ]
          },
          "execution_count": 111,
          "metadata": {},
          "output_type": "execute_result"
        }
      ],
      "source": [
        "id_loja = random.choices(range(1, 4 + 1), weights=[1, 1.4, 1.6, 2], k=n) # Gerar uma lista de números aleatórios entre min e max com os pesos especificados\n",
        "id_loja = np.array(id_loja)\n",
        "id_loja"
      ]
    },
    {
      "cell_type": "code",
      "execution_count": 112,
      "metadata": {
        "colab": {
          "base_uri": "https://localhost:8080/"
        },
        "id": "ku0x2fxqEEs0",
        "outputId": "0b93f7b8-77e9-4857-d8e7-05ef36ed67c9"
      },
      "outputs": [
        {
          "data": {
            "text/plain": [
              "array([1, 3, 5, ..., 1, 2, 2])"
            ]
          },
          "execution_count": 112,
          "metadata": {},
          "output_type": "execute_result"
        }
      ],
      "source": [
        "id_topico = random.choices(range(1, 5 + 1), weights=[2, 1.3, 1.7, 1, 1.5], k=n) # Gerar uma lista de números aleatórios entre min e max com os pesos especificados\n",
        "id_topico = np.array(id_topico)\n",
        "id_topico"
      ]
    },
    {
      "cell_type": "code",
      "execution_count": 113,
      "metadata": {
        "colab": {
          "base_uri": "https://localhost:8080/"
        },
        "id": "YL4oo6_sHpO5",
        "outputId": "56d3479f-fc38-481b-dc32-66faf5d1e8e9"
      },
      "outputs": [
        {
          "data": {
            "text/plain": [
              "array([2, 1, 2, ..., 1, 3, 2])"
            ]
          },
          "execution_count": 113,
          "metadata": {},
          "output_type": "execute_result"
        }
      ],
      "source": [
        "id_genero = random.choices(range(1, 3 + 1), weights=[0.45, 0.5, 0.05], k=n) # Gerar uma lista de números aleatórios entre min e max com os pesos especificados\n",
        "id_genero = np.array(id_genero)\n",
        "id_genero"
      ]
    },
    {
      "cell_type": "code",
      "execution_count": 114,
      "metadata": {
        "colab": {
          "base_uri": "https://localhost:8080/"
        },
        "id": "d-_GwfhKGwFC",
        "outputId": "ba3a9b96-1e92-4e21-b35a-bb4dc6af2c84"
      },
      "outputs": [
        {
          "data": {
            "text/plain": [
              "array([35, 42, 39, ..., 21, 32, 43])"
            ]
          },
          "execution_count": 114,
          "metadata": {},
          "output_type": "execute_result"
        }
      ],
      "source": [
        "idade = np.random.normal(loc=40, scale=10, size=n)\n",
        "idade = np.clip(idade, 18, 65) # Limitar os valores entre min e max\n",
        "delta = 38 - np.median(idade) # Diferença entre a mediana atual e a desejada\n",
        "idade = idade + delta # Adicionar a diferença a todos os elementos da lista\n",
        "idade = np.clip(idade, 18, 65) # Limitar os valores entre min e max novamente\n",
        "idade = idade.astype(int) # Converter a lista para uma lista de inteiros\n",
        "idade"
      ]
    },
    {
      "cell_type": "code",
      "execution_count": 115,
      "metadata": {
        "colab": {
          "base_uri": "https://localhost:8080/"
        },
        "id": "UBttG5k6EN-Q",
        "outputId": "e55cb57c-080e-4875-9a10-d000c4ab8bbd"
      },
      "outputs": [
        {
          "data": {
            "text/plain": [
              "array([datetime.date(2023, 6, 24), datetime.date(2023, 8, 9),\n",
              "       datetime.date(2023, 6, 27), ..., datetime.date(2024, 1, 14),\n",
              "       datetime.date(2023, 9, 24), datetime.date(2023, 1, 11)],\n",
              "      dtype=object)"
            ]
          },
          "execution_count": 115,
          "metadata": {},
          "output_type": "execute_result"
        }
      ],
      "source": [
        "dt_envio = []\n",
        "for i in range(n):\n",
        "    # Gerar um número aleatório entre 0 e o número de dias entre inicio e fim\n",
        "    dias_anterior = random.randint(0, (fim - inicio).days)\n",
        "    # Adicionar esse número de dias à data inicial e obter uma data aleatória\n",
        "    data_anterior = inicio + datetime.timedelta(days=dias_anterior)\n",
        "    # Adicionar a data à lista\n",
        "    dt_envio.append(data_anterior)\n",
        "dt_envio = np.array(dt_envio)\n",
        "dt_envio\n"
      ]
    },
    {
      "cell_type": "code",
      "execution_count": 116,
      "metadata": {
        "colab": {
          "base_uri": "https://localhost:8080/"
        },
        "id": "2iOa-fkdEpyy",
        "outputId": "5e459dff-9ffb-4259-b4a9-3466975ecaf9"
      },
      "outputs": [
        {
          "data": {
            "text/plain": [
              "array([None, datetime.date(2023, 8, 28), None, ...,\n",
              "       datetime.date(2024, 1, 31), datetime.date(2023, 10, 21),\n",
              "       datetime.date(2023, 1, 15)], dtype=object)"
            ]
          },
          "execution_count": 116,
          "metadata": {},
          "output_type": "execute_result"
        }
      ],
      "source": [
        "dt_resposta = []\n",
        "for i in range(n):\n",
        "    # Gerar um número aleatório entre 0 e 1\n",
        "    prob = random.random()\n",
        "    # Se o número for menor que a porcentagem de valores nulos, adicionar um valor nulo à lista\n",
        "    if prob < nulos:\n",
        "        dt_resposta.append(None)\n",
        "    # Senão, gerar uma data aleatória entre inicio e fim, que seja posterior à data correspondente na lista anterior\n",
        "    else:\n",
        "        # Obter a data correspondente na lista anterior\n",
        "        data_anterior = dt_envio[i]\n",
        "        # Gerar um número aleatório entre 1 e o número máximo de dias posteriores\n",
        "        dias_posterior = random.randint(1, dias)\n",
        "        # Adicionar esse número de dias à data anterior e obter uma data posterior\n",
        "        data_posterior = data_anterior + datetime.timedelta(days=dias_posterior)\n",
        "        # Se a data posterior for maior que a data final, usar a data final\n",
        "        if data_posterior > fim:\n",
        "            data_posterior = fim\n",
        "        # Adicionar a data posterior à lista\n",
        "        dt_resposta.append(data_posterior)\n",
        "\n",
        "dt_resposta = np.array(dt_resposta)\n",
        "dt_resposta"
      ]
    },
    {
      "cell_type": "code",
      "execution_count": 117,
      "metadata": {
        "colab": {
          "base_uri": "https://localhost:8080/",
          "height": 423
        },
        "id": "TGx6jkRHChEi",
        "outputId": "a5f30904-93f8-4c0b-e14a-4a8731e7477b"
      },
      "outputs": [
        {
          "data": {
            "text/html": [
              "<div>\n",
              "<style scoped>\n",
              "    .dataframe tbody tr th:only-of-type {\n",
              "        vertical-align: middle;\n",
              "    }\n",
              "\n",
              "    .dataframe tbody tr th {\n",
              "        vertical-align: top;\n",
              "    }\n",
              "\n",
              "    .dataframe thead th {\n",
              "        text-align: right;\n",
              "    }\n",
              "</style>\n",
              "<table border=\"1\" class=\"dataframe\">\n",
              "  <thead>\n",
              "    <tr style=\"text-align: right;\">\n",
              "      <th></th>\n",
              "      <th>nps</th>\n",
              "      <th>id_loja</th>\n",
              "      <th>id_topico</th>\n",
              "      <th>idade</th>\n",
              "      <th>id_genero</th>\n",
              "      <th>dt_envio</th>\n",
              "      <th>dt_resposta</th>\n",
              "    </tr>\n",
              "  </thead>\n",
              "  <tbody>\n",
              "    <tr>\n",
              "      <th>1</th>\n",
              "      <td>8</td>\n",
              "      <td>3</td>\n",
              "      <td>1</td>\n",
              "      <td>35</td>\n",
              "      <td>2</td>\n",
              "      <td>2023-06-24</td>\n",
              "      <td>None</td>\n",
              "    </tr>\n",
              "    <tr>\n",
              "      <th>2</th>\n",
              "      <td>10</td>\n",
              "      <td>3</td>\n",
              "      <td>3</td>\n",
              "      <td>42</td>\n",
              "      <td>1</td>\n",
              "      <td>2023-08-09</td>\n",
              "      <td>2023-08-28</td>\n",
              "    </tr>\n",
              "    <tr>\n",
              "      <th>3</th>\n",
              "      <td>10</td>\n",
              "      <td>4</td>\n",
              "      <td>5</td>\n",
              "      <td>39</td>\n",
              "      <td>2</td>\n",
              "      <td>2023-06-27</td>\n",
              "      <td>None</td>\n",
              "    </tr>\n",
              "    <tr>\n",
              "      <th>4</th>\n",
              "      <td>6</td>\n",
              "      <td>3</td>\n",
              "      <td>1</td>\n",
              "      <td>43</td>\n",
              "      <td>2</td>\n",
              "      <td>2023-12-14</td>\n",
              "      <td>2023-12-27</td>\n",
              "    </tr>\n",
              "    <tr>\n",
              "      <th>5</th>\n",
              "      <td>10</td>\n",
              "      <td>2</td>\n",
              "      <td>2</td>\n",
              "      <td>26</td>\n",
              "      <td>2</td>\n",
              "      <td>2023-11-29</td>\n",
              "      <td>2023-12-05</td>\n",
              "    </tr>\n",
              "    <tr>\n",
              "      <th>...</th>\n",
              "      <td>...</td>\n",
              "      <td>...</td>\n",
              "      <td>...</td>\n",
              "      <td>...</td>\n",
              "      <td>...</td>\n",
              "      <td>...</td>\n",
              "      <td>...</td>\n",
              "    </tr>\n",
              "    <tr>\n",
              "      <th>9996</th>\n",
              "      <td>9</td>\n",
              "      <td>4</td>\n",
              "      <td>1</td>\n",
              "      <td>30</td>\n",
              "      <td>2</td>\n",
              "      <td>2023-08-25</td>\n",
              "      <td>2023-09-17</td>\n",
              "    </tr>\n",
              "    <tr>\n",
              "      <th>9997</th>\n",
              "      <td>10</td>\n",
              "      <td>4</td>\n",
              "      <td>1</td>\n",
              "      <td>23</td>\n",
              "      <td>1</td>\n",
              "      <td>2023-09-16</td>\n",
              "      <td>2023-10-16</td>\n",
              "    </tr>\n",
              "    <tr>\n",
              "      <th>9998</th>\n",
              "      <td>9</td>\n",
              "      <td>4</td>\n",
              "      <td>1</td>\n",
              "      <td>21</td>\n",
              "      <td>1</td>\n",
              "      <td>2024-01-14</td>\n",
              "      <td>2024-01-31</td>\n",
              "    </tr>\n",
              "    <tr>\n",
              "      <th>9999</th>\n",
              "      <td>7</td>\n",
              "      <td>2</td>\n",
              "      <td>2</td>\n",
              "      <td>32</td>\n",
              "      <td>3</td>\n",
              "      <td>2023-09-24</td>\n",
              "      <td>2023-10-21</td>\n",
              "    </tr>\n",
              "    <tr>\n",
              "      <th>10000</th>\n",
              "      <td>6</td>\n",
              "      <td>3</td>\n",
              "      <td>2</td>\n",
              "      <td>43</td>\n",
              "      <td>2</td>\n",
              "      <td>2023-01-11</td>\n",
              "      <td>2023-01-15</td>\n",
              "    </tr>\n",
              "  </tbody>\n",
              "</table>\n",
              "<p>10000 rows × 7 columns</p>\n",
              "</div>"
            ],
            "text/plain": [
              "       nps  id_loja  id_topico  idade  id_genero    dt_envio dt_resposta\n",
              "1        8        3          1     35          2  2023-06-24        None\n",
              "2       10        3          3     42          1  2023-08-09  2023-08-28\n",
              "3       10        4          5     39          2  2023-06-27        None\n",
              "4        6        3          1     43          2  2023-12-14  2023-12-27\n",
              "5       10        2          2     26          2  2023-11-29  2023-12-05\n",
              "...    ...      ...        ...    ...        ...         ...         ...\n",
              "9996     9        4          1     30          2  2023-08-25  2023-09-17\n",
              "9997    10        4          1     23          1  2023-09-16  2023-10-16\n",
              "9998     9        4          1     21          1  2024-01-14  2024-01-31\n",
              "9999     7        2          2     32          3  2023-09-24  2023-10-21\n",
              "10000    6        3          2     43          2  2023-01-11  2023-01-15\n",
              "\n",
              "[10000 rows x 7 columns]"
            ]
          },
          "execution_count": 117,
          "metadata": {},
          "output_type": "execute_result"
        }
      ],
      "source": [
        "# Juntar as listas em um dataframe do pandas\n",
        "df = pd.concat([pd.Series(nps), pd.Series(id_loja), pd.Series(id_topico), pd.Series(idade), pd.Series(id_genero), pd.Series(dt_envio), pd.Series(dt_resposta)], axis=1) # Concatenar as listas por coluna\n",
        "df.columns = ['nps', 'id_loja', 'id_topico', 'idade', 'id_genero', 'dt_envio', 'dt_resposta'] # Renomear as colunas\n",
        "df.index = range(1, n + 1) # Renomear o índice\n",
        "df\n",
        "\n"
      ]
    },
    {
      "cell_type": "code",
      "execution_count": 118,
      "metadata": {
        "colab": {
          "base_uri": "https://localhost:8080/",
          "height": 423
        },
        "id": "BYi9-gmdJZ2X",
        "outputId": "d94f965e-26e6-4874-9243-2662fdddd3f6"
      },
      "outputs": [
        {
          "data": {
            "text/html": [
              "<div>\n",
              "<style scoped>\n",
              "    .dataframe tbody tr th:only-of-type {\n",
              "        vertical-align: middle;\n",
              "    }\n",
              "\n",
              "    .dataframe tbody tr th {\n",
              "        vertical-align: top;\n",
              "    }\n",
              "\n",
              "    .dataframe thead th {\n",
              "        text-align: right;\n",
              "    }\n",
              "</style>\n",
              "<table border=\"1\" class=\"dataframe\">\n",
              "  <thead>\n",
              "    <tr style=\"text-align: right;\">\n",
              "      <th></th>\n",
              "      <th>nps</th>\n",
              "      <th>id_loja</th>\n",
              "      <th>id_topico</th>\n",
              "      <th>idade</th>\n",
              "      <th>id_genero</th>\n",
              "      <th>dt_envio</th>\n",
              "      <th>dt_resposta</th>\n",
              "    </tr>\n",
              "  </thead>\n",
              "  <tbody>\n",
              "    <tr>\n",
              "      <th>1</th>\n",
              "      <td>8</td>\n",
              "      <td>3</td>\n",
              "      <td>1</td>\n",
              "      <td>35</td>\n",
              "      <td>2</td>\n",
              "      <td>2023-06-24</td>\n",
              "      <td>NaT</td>\n",
              "    </tr>\n",
              "    <tr>\n",
              "      <th>2</th>\n",
              "      <td>10</td>\n",
              "      <td>3</td>\n",
              "      <td>3</td>\n",
              "      <td>42</td>\n",
              "      <td>1</td>\n",
              "      <td>2023-08-09</td>\n",
              "      <td>2023-08-28</td>\n",
              "    </tr>\n",
              "    <tr>\n",
              "      <th>3</th>\n",
              "      <td>10</td>\n",
              "      <td>4</td>\n",
              "      <td>5</td>\n",
              "      <td>39</td>\n",
              "      <td>2</td>\n",
              "      <td>2023-06-27</td>\n",
              "      <td>NaT</td>\n",
              "    </tr>\n",
              "    <tr>\n",
              "      <th>4</th>\n",
              "      <td>6</td>\n",
              "      <td>3</td>\n",
              "      <td>1</td>\n",
              "      <td>43</td>\n",
              "      <td>2</td>\n",
              "      <td>2023-12-14</td>\n",
              "      <td>2023-12-27</td>\n",
              "    </tr>\n",
              "    <tr>\n",
              "      <th>5</th>\n",
              "      <td>10</td>\n",
              "      <td>2</td>\n",
              "      <td>2</td>\n",
              "      <td>26</td>\n",
              "      <td>2</td>\n",
              "      <td>2023-11-29</td>\n",
              "      <td>2023-12-05</td>\n",
              "    </tr>\n",
              "    <tr>\n",
              "      <th>...</th>\n",
              "      <td>...</td>\n",
              "      <td>...</td>\n",
              "      <td>...</td>\n",
              "      <td>...</td>\n",
              "      <td>...</td>\n",
              "      <td>...</td>\n",
              "      <td>...</td>\n",
              "    </tr>\n",
              "    <tr>\n",
              "      <th>9996</th>\n",
              "      <td>9</td>\n",
              "      <td>4</td>\n",
              "      <td>1</td>\n",
              "      <td>30</td>\n",
              "      <td>2</td>\n",
              "      <td>2023-08-25</td>\n",
              "      <td>2023-09-17</td>\n",
              "    </tr>\n",
              "    <tr>\n",
              "      <th>9997</th>\n",
              "      <td>10</td>\n",
              "      <td>4</td>\n",
              "      <td>1</td>\n",
              "      <td>23</td>\n",
              "      <td>1</td>\n",
              "      <td>2023-09-16</td>\n",
              "      <td>2023-10-16</td>\n",
              "    </tr>\n",
              "    <tr>\n",
              "      <th>9998</th>\n",
              "      <td>9</td>\n",
              "      <td>4</td>\n",
              "      <td>1</td>\n",
              "      <td>21</td>\n",
              "      <td>1</td>\n",
              "      <td>2024-01-14</td>\n",
              "      <td>2024-01-31</td>\n",
              "    </tr>\n",
              "    <tr>\n",
              "      <th>9999</th>\n",
              "      <td>7</td>\n",
              "      <td>2</td>\n",
              "      <td>2</td>\n",
              "      <td>32</td>\n",
              "      <td>3</td>\n",
              "      <td>2023-09-24</td>\n",
              "      <td>2023-10-21</td>\n",
              "    </tr>\n",
              "    <tr>\n",
              "      <th>10000</th>\n",
              "      <td>6</td>\n",
              "      <td>3</td>\n",
              "      <td>2</td>\n",
              "      <td>43</td>\n",
              "      <td>2</td>\n",
              "      <td>2023-01-11</td>\n",
              "      <td>2023-01-15</td>\n",
              "    </tr>\n",
              "  </tbody>\n",
              "</table>\n",
              "<p>10000 rows × 7 columns</p>\n",
              "</div>"
            ],
            "text/plain": [
              "       nps  id_loja  id_topico  idade  id_genero   dt_envio dt_resposta\n",
              "1        8        3          1     35          2 2023-06-24         NaT\n",
              "2       10        3          3     42          1 2023-08-09  2023-08-28\n",
              "3       10        4          5     39          2 2023-06-27         NaT\n",
              "4        6        3          1     43          2 2023-12-14  2023-12-27\n",
              "5       10        2          2     26          2 2023-11-29  2023-12-05\n",
              "...    ...      ...        ...    ...        ...        ...         ...\n",
              "9996     9        4          1     30          2 2023-08-25  2023-09-17\n",
              "9997    10        4          1     23          1 2023-09-16  2023-10-16\n",
              "9998     9        4          1     21          1 2024-01-14  2024-01-31\n",
              "9999     7        2          2     32          3 2023-09-24  2023-10-21\n",
              "10000    6        3          2     43          2 2023-01-11  2023-01-15\n",
              "\n",
              "[10000 rows x 7 columns]"
            ]
          },
          "execution_count": 118,
          "metadata": {},
          "output_type": "execute_result"
        }
      ],
      "source": [
        "df['dt_envio'] = pd.to_datetime(df['dt_envio'])\n",
        "df['dt_resposta'] = pd.to_datetime(df['dt_resposta'])\n",
        "df"
      ]
    },
    {
      "cell_type": "code",
      "execution_count": 119,
      "metadata": {
        "colab": {
          "base_uri": "https://localhost:8080/",
          "height": 300
        },
        "id": "sIioycTPF8QO",
        "outputId": "c548a9d5-d3fc-4e9e-de1b-70887ff743a3"
      },
      "outputs": [
        {
          "data": {
            "text/html": [
              "<div>\n",
              "<style scoped>\n",
              "    .dataframe tbody tr th:only-of-type {\n",
              "        vertical-align: middle;\n",
              "    }\n",
              "\n",
              "    .dataframe tbody tr th {\n",
              "        vertical-align: top;\n",
              "    }\n",
              "\n",
              "    .dataframe thead th {\n",
              "        text-align: right;\n",
              "    }\n",
              "</style>\n",
              "<table border=\"1\" class=\"dataframe\">\n",
              "  <thead>\n",
              "    <tr style=\"text-align: right;\">\n",
              "      <th></th>\n",
              "      <th>nps</th>\n",
              "      <th>id_loja</th>\n",
              "      <th>id_topico</th>\n",
              "      <th>idade</th>\n",
              "      <th>id_genero</th>\n",
              "    </tr>\n",
              "  </thead>\n",
              "  <tbody>\n",
              "    <tr>\n",
              "      <th>count</th>\n",
              "      <td>10000.000000</td>\n",
              "      <td>10000.000000</td>\n",
              "      <td>10000.000000</td>\n",
              "      <td>10000.000000</td>\n",
              "      <td>10000.000000</td>\n",
              "    </tr>\n",
              "    <tr>\n",
              "      <th>mean</th>\n",
              "      <td>8.942900</td>\n",
              "      <td>2.748700</td>\n",
              "      <td>2.828100</td>\n",
              "      <td>37.564500</td>\n",
              "      <td>1.608000</td>\n",
              "    </tr>\n",
              "    <tr>\n",
              "      <th>std</th>\n",
              "      <td>1.328539</td>\n",
              "      <td>1.088791</td>\n",
              "      <td>1.462793</td>\n",
              "      <td>9.790578</td>\n",
              "      <td>0.587342</td>\n",
              "    </tr>\n",
              "    <tr>\n",
              "      <th>min</th>\n",
              "      <td>5.000000</td>\n",
              "      <td>1.000000</td>\n",
              "      <td>1.000000</td>\n",
              "      <td>18.000000</td>\n",
              "      <td>1.000000</td>\n",
              "    </tr>\n",
              "    <tr>\n",
              "      <th>25%</th>\n",
              "      <td>8.000000</td>\n",
              "      <td>2.000000</td>\n",
              "      <td>1.000000</td>\n",
              "      <td>31.000000</td>\n",
              "      <td>1.000000</td>\n",
              "    </tr>\n",
              "    <tr>\n",
              "      <th>50%</th>\n",
              "      <td>9.500000</td>\n",
              "      <td>3.000000</td>\n",
              "      <td>3.000000</td>\n",
              "      <td>37.500000</td>\n",
              "      <td>2.000000</td>\n",
              "    </tr>\n",
              "    <tr>\n",
              "      <th>75%</th>\n",
              "      <td>10.000000</td>\n",
              "      <td>4.000000</td>\n",
              "      <td>4.000000</td>\n",
              "      <td>44.000000</td>\n",
              "      <td>2.000000</td>\n",
              "    </tr>\n",
              "    <tr>\n",
              "      <th>max</th>\n",
              "      <td>10.000000</td>\n",
              "      <td>4.000000</td>\n",
              "      <td>5.000000</td>\n",
              "      <td>62.000000</td>\n",
              "      <td>3.000000</td>\n",
              "    </tr>\n",
              "  </tbody>\n",
              "</table>\n",
              "</div>"
            ],
            "text/plain": [
              "                nps       id_loja     id_topico         idade     id_genero\n",
              "count  10000.000000  10000.000000  10000.000000  10000.000000  10000.000000\n",
              "mean       8.942900      2.748700      2.828100     37.564500      1.608000\n",
              "std        1.328539      1.088791      1.462793      9.790578      0.587342\n",
              "min        5.000000      1.000000      1.000000     18.000000      1.000000\n",
              "25%        8.000000      2.000000      1.000000     31.000000      1.000000\n",
              "50%        9.500000      3.000000      3.000000     37.500000      2.000000\n",
              "75%       10.000000      4.000000      4.000000     44.000000      2.000000\n",
              "max       10.000000      4.000000      5.000000     62.000000      3.000000"
            ]
          },
          "execution_count": 119,
          "metadata": {},
          "output_type": "execute_result"
        }
      ],
      "source": [
        "df.describe()"
      ]
    },
    {
      "cell_type": "code",
      "execution_count": 120,
      "metadata": {
        "colab": {
          "base_uri": "https://localhost:8080/"
        },
        "id": "s-QaJVFKJS56",
        "outputId": "2347fda4-1a2a-43bf-91c3-dc9e8ca12da6"
      },
      "outputs": [
        {
          "name": "stdout",
          "output_type": "stream",
          "text": [
            "<class 'pandas.core.frame.DataFrame'>\n",
            "RangeIndex: 10000 entries, 1 to 10000\n",
            "Data columns (total 7 columns):\n",
            " #   Column       Non-Null Count  Dtype         \n",
            "---  ------       --------------  -----         \n",
            " 0   nps          10000 non-null  int32         \n",
            " 1   id_loja      10000 non-null  int32         \n",
            " 2   id_topico    10000 non-null  int32         \n",
            " 3   idade        10000 non-null  int32         \n",
            " 4   id_genero    10000 non-null  int32         \n",
            " 5   dt_envio     10000 non-null  datetime64[ns]\n",
            " 6   dt_resposta  6493 non-null   datetime64[ns]\n",
            "dtypes: datetime64[ns](2), int32(5)\n",
            "memory usage: 351.7 KB\n"
          ]
        }
      ],
      "source": [
        "df.info()"
      ]
    },
    {
      "cell_type": "code",
      "execution_count": 121,
      "metadata": {
        "id": "M2YRkyBBjRp7"
      },
      "outputs": [],
      "source": [
        "# Cria um dicionário de tradução para os nomes dos meses e abreviações\n",
        "traducao_meses = {\n",
        "    1: 'Janeiro',\n",
        "    2: 'Fevereiro',\n",
        "    3: 'Março',\n",
        "    4: 'Abril',\n",
        "    5: 'Maio',\n",
        "    6: 'Junho',\n",
        "    7: 'Julho',\n",
        "    8: 'Agosto',\n",
        "    9: 'Setembro',\n",
        "    10: 'Outubro',\n",
        "    11: 'Novembro',\n",
        "    12: 'Dezembro'\n",
        "}\n",
        "\n",
        "traducao_abreviacoes = {\n",
        "    1: 'Jan',\n",
        "    2: 'Fev',\n",
        "    3: 'Mar',\n",
        "    4: 'Abr',\n",
        "    5: 'Mai',\n",
        "    6: 'Jun',\n",
        "    7: 'Jul',\n",
        "    8: 'Ago',\n",
        "    9: 'Set',\n",
        "    10: 'Out',\n",
        "    11: 'Nov',\n",
        "    12: 'Dez'\n",
        "}"
      ]
    },
    {
      "cell_type": "code",
      "execution_count": 122,
      "metadata": {
        "colab": {
          "base_uri": "https://localhost:8080/"
        },
        "id": "O2YvVotWe0ci",
        "outputId": "16135dc6-a73f-4d26-9038-dc7dc2833c94"
      },
      "outputs": [
        {
          "name": "stdout",
          "output_type": "stream",
          "text": [
            "          date   ano  mesano  nmes nome_mes mesabrev  day\n",
            "393 2024-01-29  2024  202401     1  Janeiro      Jan   29\n",
            "394 2024-01-30  2024  202401     1  Janeiro      Jan   30\n",
            "395 2024-01-31  2024  202401     1  Janeiro      Jan   31\n"
          ]
        }
      ],
      "source": [
        "# Obtém a data máxima e mínima do dataframe df\n",
        "data_max = df['dt_envio'].max()\n",
        "data_min = df['dt_envio'].min()\n",
        "\n",
        "#Cria um dataframe com datas entre a maxima e minima\n",
        "dcalendario = pd.DataFrame()\n",
        "dcalendario['date'] = pd.date_range(data_min, data_max)\n",
        "\n",
        "# Cria as outras colunas conforme solicitado\n",
        "dcalendario['ano'] = dcalendario['date'].dt.year\n",
        "dcalendario['mesano'] = dcalendario['date'].dt.strftime('%Y%m').astype(int)  # Converte para inteiro\n",
        "dcalendario['nmes'] = dcalendario['date'].dt.month\n",
        "# Traduz os nomes dos meses e suas abreviações\n",
        "dcalendario['nome_mes'] = dcalendario['date'].dt.month.map(traducao_meses)\n",
        "dcalendario['mesabrev'] = dcalendario['date'].dt.month.map(traducao_abreviacoes)\n",
        "dcalendario['day'] = dcalendario['date'].dt.day\n",
        "\n",
        "# Mostra as últimas 3 linhas do novo dataframe\n",
        "print(dcalendario.tail(3))\n"
      ]
    },
    {
      "cell_type": "code",
      "execution_count": 123,
      "metadata": {
        "colab": {
          "base_uri": "https://localhost:8080/",
          "height": 175
        },
        "id": "2rXg-Q1xmJnl",
        "outputId": "1aa96576-1848-4ed1-8288-046a79ee8622"
      },
      "outputs": [
        {
          "data": {
            "text/html": [
              "<div>\n",
              "<style scoped>\n",
              "    .dataframe tbody tr th:only-of-type {\n",
              "        vertical-align: middle;\n",
              "    }\n",
              "\n",
              "    .dataframe tbody tr th {\n",
              "        vertical-align: top;\n",
              "    }\n",
              "\n",
              "    .dataframe thead th {\n",
              "        text-align: right;\n",
              "    }\n",
              "</style>\n",
              "<table border=\"1\" class=\"dataframe\">\n",
              "  <thead>\n",
              "    <tr style=\"text-align: right;\">\n",
              "      <th></th>\n",
              "      <th>nome_loja</th>\n",
              "      <th>id_loja</th>\n",
              "    </tr>\n",
              "  </thead>\n",
              "  <tbody>\n",
              "    <tr>\n",
              "      <th>0</th>\n",
              "      <td>Matriz</td>\n",
              "      <td>1</td>\n",
              "    </tr>\n",
              "    <tr>\n",
              "      <th>1</th>\n",
              "      <td>Aldeota</td>\n",
              "      <td>2</td>\n",
              "    </tr>\n",
              "    <tr>\n",
              "      <th>2</th>\n",
              "      <td>Meireles</td>\n",
              "      <td>3</td>\n",
              "    </tr>\n",
              "    <tr>\n",
              "      <th>3</th>\n",
              "      <td>Eusebio</td>\n",
              "      <td>4</td>\n",
              "    </tr>\n",
              "  </tbody>\n",
              "</table>\n",
              "</div>"
            ],
            "text/plain": [
              "  nome_loja  id_loja\n",
              "0    Matriz        1\n",
              "1   Aldeota        2\n",
              "2  Meireles        3\n",
              "3   Eusebio        4"
            ]
          },
          "execution_count": 123,
          "metadata": {},
          "output_type": "execute_result"
        }
      ],
      "source": [
        "# Loja\n",
        "loja = {\n",
        "    'nome_loja': ['Matriz', 'Aldeota', 'Meireles', 'Eusebio'],\n",
        "    'id_loja': [1, 2, 3, 4]\n",
        "}\n",
        "\n",
        "# Cria um dataframe de tópicos\n",
        "df_loja = pd.DataFrame(loja)\n",
        "df_loja"
      ]
    },
    {
      "cell_type": "code",
      "execution_count": 124,
      "metadata": {
        "colab": {
          "base_uri": "https://localhost:8080/",
          "height": 206
        },
        "id": "dba-3uh3rQG4",
        "outputId": "8942b5d0-d751-4dd3-fe8a-3a44b97fff38"
      },
      "outputs": [
        {
          "data": {
            "text/html": [
              "<div>\n",
              "<style scoped>\n",
              "    .dataframe tbody tr th:only-of-type {\n",
              "        vertical-align: middle;\n",
              "    }\n",
              "\n",
              "    .dataframe tbody tr th {\n",
              "        vertical-align: top;\n",
              "    }\n",
              "\n",
              "    .dataframe thead th {\n",
              "        text-align: right;\n",
              "    }\n",
              "</style>\n",
              "<table border=\"1\" class=\"dataframe\">\n",
              "  <thead>\n",
              "    <tr style=\"text-align: right;\">\n",
              "      <th></th>\n",
              "      <th>nome_topico</th>\n",
              "      <th>id_topico</th>\n",
              "    </tr>\n",
              "  </thead>\n",
              "  <tbody>\n",
              "    <tr>\n",
              "      <th>0</th>\n",
              "      <td>Satisfação com Produto</td>\n",
              "      <td>1</td>\n",
              "    </tr>\n",
              "    <tr>\n",
              "      <th>1</th>\n",
              "      <td>Qualidade do Produto</td>\n",
              "      <td>2</td>\n",
              "    </tr>\n",
              "    <tr>\n",
              "      <th>2</th>\n",
              "      <td>Entrega e Logística</td>\n",
              "      <td>3</td>\n",
              "    </tr>\n",
              "    <tr>\n",
              "      <th>3</th>\n",
              "      <td>Atendimento ao Cliente</td>\n",
              "      <td>4</td>\n",
              "    </tr>\n",
              "    <tr>\n",
              "      <th>4</th>\n",
              "      <td>Suporte Técnico</td>\n",
              "      <td>5</td>\n",
              "    </tr>\n",
              "  </tbody>\n",
              "</table>\n",
              "</div>"
            ],
            "text/plain": [
              "              nome_topico  id_topico\n",
              "0  Satisfação com Produto          1\n",
              "1    Qualidade do Produto          2\n",
              "2     Entrega e Logística          3\n",
              "3  Atendimento ao Cliente          4\n",
              "4         Suporte Técnico          5"
            ]
          },
          "execution_count": 124,
          "metadata": {},
          "output_type": "execute_result"
        }
      ],
      "source": [
        "# Loja\n",
        "topicos = {\n",
        "    'nome_topico': ['Satisfação com Produto', 'Qualidade do Produto', 'Entrega e Logística', 'Atendimento ao Cliente', 'Suporte Técnico'],\n",
        "    'id_topico': [1, 2, 3, 4, 5]\n",
        "}\n",
        "\n",
        "# Cria um dataframe de tópicos\n",
        "df_topicos = pd.DataFrame(topicos)\n",
        "df_topicos"
      ]
    },
    {
      "cell_type": "code",
      "execution_count": 125,
      "metadata": {
        "colab": {
          "base_uri": "https://localhost:8080/",
          "height": 143
        },
        "id": "sp3U5kkQr93J",
        "outputId": "f11ec8a6-2ea6-4758-aafb-3924ebc588e8"
      },
      "outputs": [
        {
          "data": {
            "text/html": [
              "<div>\n",
              "<style scoped>\n",
              "    .dataframe tbody tr th:only-of-type {\n",
              "        vertical-align: middle;\n",
              "    }\n",
              "\n",
              "    .dataframe tbody tr th {\n",
              "        vertical-align: top;\n",
              "    }\n",
              "\n",
              "    .dataframe thead th {\n",
              "        text-align: right;\n",
              "    }\n",
              "</style>\n",
              "<table border=\"1\" class=\"dataframe\">\n",
              "  <thead>\n",
              "    <tr style=\"text-align: right;\">\n",
              "      <th></th>\n",
              "      <th>nome_genero</th>\n",
              "      <th>id_genero</th>\n",
              "    </tr>\n",
              "  </thead>\n",
              "  <tbody>\n",
              "    <tr>\n",
              "      <th>0</th>\n",
              "      <td>Feminino</td>\n",
              "      <td>1</td>\n",
              "    </tr>\n",
              "    <tr>\n",
              "      <th>1</th>\n",
              "      <td>Masculino</td>\n",
              "      <td>2</td>\n",
              "    </tr>\n",
              "    <tr>\n",
              "      <th>2</th>\n",
              "      <td>Outros</td>\n",
              "      <td>3</td>\n",
              "    </tr>\n",
              "  </tbody>\n",
              "</table>\n",
              "</div>"
            ],
            "text/plain": [
              "  nome_genero  id_genero\n",
              "0    Feminino          1\n",
              "1   Masculino          2\n",
              "2      Outros          3"
            ]
          },
          "execution_count": 125,
          "metadata": {},
          "output_type": "execute_result"
        }
      ],
      "source": [
        "# Genero\n",
        "genero = {\n",
        "    'nome_genero': ['Feminino', 'Masculino', 'Outros'],\n",
        "    'id_genero': [1, 2, 3]\n",
        "}\n",
        "\n",
        "# Cria um dataframe de tópicos\n",
        "df_genero = pd.DataFrame(genero)\n",
        "df_genero"
      ]
    },
    {
      "cell_type": "code",
      "execution_count": 126,
      "metadata": {
        "colab": {
          "base_uri": "https://localhost:8080/"
        },
        "id": "INjdoM9moU-G",
        "outputId": "1522ac2c-aa73-4d09-8e01-b545348d4e92"
      },
      "outputs": [
        {
          "name": "stdout",
          "output_type": "stream",
          "text": [
            "    idade faixa_etaria  faixa_etaria_order\n",
            "0      18        18-23                   1\n",
            "1      19        18-23                   1\n",
            "2      20        18-23                   1\n",
            "3      21        18-23                   1\n",
            "4      22        18-23                   1\n",
            "5      23        24-29                   2\n",
            "6      24        24-29                   2\n",
            "7      25        24-29                   2\n",
            "8      26        24-29                   2\n",
            "9      27        24-29                   2\n",
            "10     28        24-29                   2\n",
            "11     29        30-35                   3\n",
            "12     30        30-35                   3\n",
            "13     31        30-35                   3\n",
            "14     32        30-35                   3\n",
            "15     33        30-35                   3\n",
            "16     34        30-35                   3\n",
            "17     35        36-41                   4\n",
            "18     36        36-41                   4\n",
            "19     37        36-41                   4\n",
            "20     38        36-41                   4\n",
            "21     39        36-41                   4\n",
            "22     40        36-41                   4\n",
            "23     41        42-47                   5\n",
            "24     42        42-47                   5\n",
            "25     43        42-47                   5\n",
            "26     44        42-47                   5\n",
            "27     45        42-47                   5\n",
            "28     46        42-47                   5\n",
            "29     47        48-53                   6\n",
            "30     48        48-53                   6\n",
            "31     49        48-53                   6\n",
            "32     50        48-53                   6\n",
            "33     51        48-53                   6\n",
            "34     52        48-53                   6\n",
            "35     53        54-59                   7\n",
            "36     54        54-59                   7\n",
            "37     55        54-59                   7\n",
            "38     56        54-59                   7\n",
            "39     57        54-59                   7\n",
            "40     58        54-59                   7\n",
            "41     59        60-65                   8\n",
            "42     60        60-65                   8\n",
            "43     61        60-65                   8\n",
            "44     62        60-65                   8\n"
          ]
        }
      ],
      "source": [
        "idade_min = df['idade'].min()\n",
        "idade_max = df['idade'].max()\n",
        "\n",
        "# Cria um novo DataFrame com a coluna 'idade' contendo todas as idades no intervalo\n",
        "df_idade = pd.DataFrame({'idade': pd.RangeIndex(start=idade_min, stop=idade_max + 1, step=1)})\n",
        "df_idade\n",
        "\n",
        "# Definir os limites das faixas etárias\n",
        "faixa_etaria_bins = [0, 23, 29, 35, 41, 47, 53, 59, 65, float('inf')]\n",
        "\n",
        "# Definir os rótulos das faixas etárias\n",
        "faixa_etaria_labels = ['18-23', '24-29', '30-35', '36-41', '42-47', '48-53', '54-59', '60-65', '66+']\n",
        "\n",
        "# Adicionar a nova coluna 'faixa_etaria'\n",
        "df_idade['faixa_etaria'] = pd.cut(df_idade['idade'], bins=faixa_etaria_bins, labels=faixa_etaria_labels, right=False)\n",
        "\n",
        "# Adicionar a nova coluna 'faixa_etaria_order'\n",
        "df_idade['faixa_etaria_order'] = pd.cut(df_idade['idade'], bins=faixa_etaria_bins, labels=range(1, len(faixa_etaria_labels)+1), right=False).astype('Int64')\n",
        "\n",
        "# Exibir o DataFrame resultante\n",
        "print(df_idade)"
      ]
    },
    {
      "cell_type": "code",
      "execution_count": 127,
      "metadata": {
        "id": "5NItDMbjmJDL"
      },
      "outputs": [],
      "source": [
        "from sqlalchemy import create_engine"
      ]
    },
    {
      "cell_type": "code",
      "execution_count": 128,
      "metadata": {
        "colab": {
          "base_uri": "https://localhost:8080/"
        },
        "id": "a3UMls7jj7vq",
        "outputId": "c86f62da-9283-40d8-93fc-be5ed458136f"
      },
      "outputs": [
        {
          "name": "stdout",
          "output_type": "stream",
          "text": [
            "Conexão bem-sucedida!\n"
          ]
        }
      ],
      "source": [
        "# Informações de conexão ao banco de dados\n",
        "db_user = '****'\n",
        "db_password = '****'\n",
        "db_host = '****'\n",
        "db_name = '****'\n",
        "\n",
        "# Criar a string de conexão\n",
        "db_url = f'postgresql+psycopg2://{db_user}:{db_password}@{db_host}/{db_name}'\n",
        "\n",
        "# Criar a engine SQLAlchemy\n",
        "engine = create_engine(db_url)\n",
        "\n",
        "# Testar a conexão\n",
        "try:\n",
        "    connection = engine.connect()\n",
        "    print(\"Conexão bem-sucedida!\")\n",
        "except Exception as e:\n",
        "    print(f\"Erro de conexão: {e}\")"
      ]
    },
    {
      "cell_type": "code",
      "execution_count": 129,
      "metadata": {
        "colab": {
          "base_uri": "https://localhost:8080/"
        },
        "id": "pelq_--RezpO",
        "outputId": "33220695-5bc1-48d1-8236-ca18c1f7bf0e"
      },
      "outputs": [
        {
          "data": {
            "text/plain": [
              "45"
            ]
          },
          "execution_count": 129,
          "metadata": {},
          "output_type": "execute_result"
        }
      ],
      "source": [
        "# Escrever os dados na tabela\n",
        "df.to_sql('fNPS', engine, schema='NPS', index=False, if_exists='replace')\n",
        "dcalendario.to_sql('dcalendario', engine, schema='NPS', index=False, if_exists='replace')\n",
        "df_topicos.to_sql('dtopicos', engine, schema='NPS', index=False, if_exists='replace')\n",
        "df_loja.to_sql('dloja', engine, schema='NPS', index=False, if_exists='replace')\n",
        "df_genero.to_sql('dgenero', engine, schema='NPS', index=False, if_exists='replace')\n",
        "df_idade.to_sql('didade', engine, schema='NPS', index=False, if_exists='replace')"
      ]
    },
    {
      "cell_type": "code",
      "execution_count": 130,
      "metadata": {
        "id": "hRI01oWc3bKv"
      },
      "outputs": [],
      "source": [
        " connection.close()"
      ]
    }
  ],
  "metadata": {
    "colab": {
      "provenance": []
    },
    "kernelspec": {
      "display_name": "Python 3 (ipykernel)",
      "language": "python",
      "name": "python3"
    },
    "language_info": {
      "codemirror_mode": {
        "name": "ipython",
        "version": 3
      },
      "file_extension": ".py",
      "mimetype": "text/x-python",
      "name": "python",
      "nbconvert_exporter": "python",
      "pygments_lexer": "ipython3",
      "version": "3.9.13"
    }
  },
  "nbformat": 4,
  "nbformat_minor": 0
}
